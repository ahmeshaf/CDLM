{
 "cells": [
  {
   "cell_type": "code",
   "execution_count": 1,
   "metadata": {},
   "outputs": [],
   "source": [
    "import os\n",
    "cwd = os.getcwd()\n",
    "os.chdir('./recommenders/')"
   ]
  },
  {
   "cell_type": "code",
   "execution_count": 16,
   "metadata": {},
   "outputs": [],
   "source": [
    "from recommenders.get_cdlm_scores import generate_cdlm_score, generate_mention_representations, generate_regressor_score\n",
    "from recommenders.train_regressor import train_regressor\n",
    "from recommenders.featurization import Featurizer"
   ]
  },
  {
   "cell_type": "code",
   "execution_count": 6,
   "metadata": {},
   "outputs": [],
   "source": [
    "data_path = './data/ecb/mentions/'\n",
    "out_folder = './data/ecb/cdlm/'\n",
    "splits = ['dev', 'train', 'test']\n",
    "config_file_path = './config_pairwise_long_reg_span.json'"
   ]
  },
  {
   "cell_type": "code",
   "execution_count": 8,
   "metadata": {},
   "outputs": [
    {
     "name": "stderr",
     "output_type": "stream",
     "text": [
      "100%|██████████| 6833/6833 [00:00<00:00, 118476.89it/s]\n"
     ]
    }
   ],
   "source": [
    "# Preprocessing\n",
    "\n",
    "import json\n",
    "from recommenders.featurization import generate_tfidf_map, generate_related_words, generate_sent_2_ent\n",
    "\n",
    "tfidf_path = out_folder + '/tfidf.pkl'\n",
    "related_words_map_path = out_folder + '/related_words_map.pkl'\n",
    "sent2ent_map_path = out_folder + '/sent2ent.pkl'\n",
    "\n",
    "all_data = {}\n",
    "all_events = []\n",
    "all_entities = []\n",
    "for split in splits:\n",
    "    split_path = data_path + '/%s.json'%split\n",
    "    split_data = json.load(open(split_path))\n",
    "    all_data = {**all_data, **split_data}\n",
    "\n",
    "    eve_split_path = data_path + '/%s_events.json'%split\n",
    "    eve_data = json.load(open(eve_split_path))\n",
    "    all_events.extend(eve_data)\n",
    "    \n",
    "    ent_data = json.load(open(data_path + '/%s_entities.json'%split))\n",
    "    all_entities.extend(ent_data)\n",
    "\n",
    "generate_tfidf_map(all_data, tfidf_path)\n",
    "generate_related_words(all_events, related_words_map_path)\n",
    "generate_sent_2_ent(all_entities, sent2ent_map_path)"
   ]
  },
  {
   "cell_type": "code",
   "execution_count": 75,
   "metadata": {},
   "outputs": [],
   "source": [
    "from collections import defaultdict\n",
    "import spacy\n",
    "nlp = spacy.load(\"en_core_web_sm\")\n",
    "\n",
    "sent2tok_map = defaultdict(list)\n",
    "for doc, data in all_data.items():\n",
    "#     print(data)\n",
    "    for d in data:\n",
    "        sent_id = doc + '_' + str(d[0])\n",
    "        word = d[2].lower()\n",
    "        sent2tok_map[sent_id].append(word)\n",
    "\n",
    "sentence_string_map = {s_id: ' '.join(words) for s_id, words in sent2tok_map.items()}\n",
    "\n",
    "sent_token_spacy_map = {}\n",
    "for sent_id, sentence in sentence_string_map.items():\n",
    "    sentence_nlp = nlp(sentence)\n",
    "    tokens = [tok.lemma_ for tok in sentence_nlp if not tok.is_stop and not tok.is_punct]\n",
    "    sent_token_spacy_map[sent_id] = tokens\n",
    "\n",
    "# sent2tok_map"
   ]
  },
  {
   "cell_type": "code",
   "execution_count": 77,
   "metadata": {},
   "outputs": [],
   "source": [
    "pickle.dump(sent_token_spacy_map, open('sent2tok_map.pkl', 'wb'))"
   ]
  },
  {
   "cell_type": "code",
   "execution_count": 9,
   "metadata": {},
   "outputs": [],
   "source": [
    "# Generate Contextualized Mention Representations\n",
    "\n",
    "# Download this at: https://drive.google.com/drive/folders/1bVSI3VPAvcIixrclkZyTHDXi7bamg93b?usp=sharing\n",
    "model_dir = './models/cdlm2/checkpoint_8/'\n",
    "\n",
    "context_vector_map_path = out_folder + '/context_vector_map.pkl'\n",
    "if not os.path.exists(context_vector_map_path):\n",
    "    generate_mention_representations(config_file_path, model_dir, splits, out_folder, num_gpus=2, batch_size=12)"
   ]
  },
  {
   "cell_type": "code",
   "execution_count": 10,
   "metadata": {},
   "outputs": [],
   "source": [
    "featurizer = Featurizer(tfidf_path, related_words_map_path, context_vector_map_path, sent2ent_map_path)"
   ]
  },
  {
   "cell_type": "code",
   "execution_count": 13,
   "metadata": {},
   "outputs": [],
   "source": [
    "# Train Regressor\n",
    "\n",
    "model_stat_dict_path = os.path.join(out_folder, 'regressor.chk')\n",
    "\n",
    "if not os.path.exists(model_stat_dict_path):\n",
    "    train_regressor(config_file_path, out_folder)"
   ]
  },
  {
   "cell_type": "code",
   "execution_count": 157,
   "metadata": {},
   "outputs": [],
   "source": [
    "# Generate Scores From the Regressor For Dev and Test\n",
    "\n",
    "regressor_scores_path_test = out_folder + '/regressor_score_data_%s.pkl' % \"test\"\n",
    "regressor_scores_path_dev = out_folder + '/regressor_score_data_%s.pkl' % \"dev\"\n",
    "\n",
    "if not os.path.exists(regressor_scores_path_test):\n",
    "    generate_regressor_score(config_file_path,\n",
    "                             model_stat_dict_path,\n",
    "                             'test', out_folder)\n",
    "\n",
    "if not os.path.exists(regressor_scores_path_dev):\n",
    "    generate_regressor_score(config_file_path,\n",
    "                             model_stat_dict_path,\n",
    "                             'dev', out_folder)"
   ]
  },
  {
   "cell_type": "code",
   "execution_count": 18,
   "metadata": {},
   "outputs": [],
   "source": [
    "# Generate Scores From the CDLM System For Dev and Test\n",
    "\n",
    "cdlm_scores_path_test = out_folder + '/cdlm_score_data_%s.pkl'%'test'\n",
    "cdlm_scores_path_dev = out_folder + '/cdlm_score_data_%s.pkl'%'dev'\n",
    "\n",
    "if not os.path.exists(cdlm_scores_path_test):\n",
    "    generate_cdlm_score(config_file_path, model_dir, 'test', out_folder, num_gpus=4, batch_size = 150)\n",
    "    \n",
    "if not os.path.exists(cdlm_scores_path_dev):\n",
    "    generate_cdlm_score(config_file_path, model_dir, 'dev', out_folder, num_gpus=4, batch_size = 150)\n"
   ]
  },
  {
   "cell_type": "code",
   "execution_count": 107,
   "metadata": {},
   "outputs": [
    {
     "data": {
      "text/plain": [
       "<module 'recommenders.incremental_clustering' from '/media/rehan/work/workspace/acl_submission/CDLM/recommenders/incremental_clustering.py'>"
      ]
     },
     "execution_count": 107,
     "metadata": {},
     "output_type": "execute_result"
    }
   ],
   "source": [
    "import importlib\n",
    "importlib.reload(recommenders.incremental_clustering)"
   ]
  },
  {
   "cell_type": "code",
   "execution_count": 108,
   "metadata": {},
   "outputs": [],
   "source": [
    "import recommenders.incremental_clustering\n",
    "from recommenders.incremental_clustering import comparison_anaylis"
   ]
  },
  {
   "cell_type": "code",
   "execution_count": 109,
   "metadata": {},
   "outputs": [],
   "source": [
    "ks = [2, 2.5, 3, 3.5, 4, 4.5, 5]"
   ]
  },
  {
   "cell_type": "code",
   "execution_count": 156,
   "metadata": {},
   "outputs": [
    {
     "name": "stdout",
     "output_type": "stream",
     "text": [
      "clusters 991\n"
     ]
    },
    {
     "name": "stderr",
     "output_type": "stream",
     "text": [
      "Clustering: 152it [00:00, 518.50it/s]"
     ]
    },
    {
     "name": "stdout",
     "output_type": "stream",
     "text": [
      "mention: 1245\n",
      "within events 991\n"
     ]
    },
    {
     "name": "stderr",
     "output_type": "stream",
     "text": [
      "\n",
      "Clustering: 155it [00:00, 692.89it/s]\n",
      "Clustering: 147it [00:00, 468.89it/s]\n",
      "Clustering: 102it [00:00, 712.01it/s]\n",
      "Clustering: 115it [00:00, 531.25it/s]\n",
      "Clustering: 142it [00:00, 390.97it/s]\n",
      "Clustering: 110it [00:00, 548.36it/s]\n",
      "Clustering: 68it [00:00, 716.19it/s]\n"
     ]
    },
    {
     "name": "stdout",
     "output_type": "stream",
     "text": [
      "0.7154046997389034\n",
      "[(10, 0.9501000000000001, 0.7154046997389034, 2692)]\n"
     ]
    },
    {
     "data": {
      "text/plain": [
       "[(10, 0.9501000000000001, 0.7154046997389034, 2692)]"
      ]
     },
     "execution_count": 156,
     "metadata": {},
     "output_type": "execute_result"
    }
   ],
   "source": [
    "# Dev score for threshold = 0.0001 for CDLM method\n",
    "\n",
    "comparison_anaylis('./data/ecb/', 'dev', sent_token_spacy_map, cdlm_scores_path_dev, ks=[10], threshold=0.0001)"
   ]
  },
  {
   "cell_type": "code",
   "execution_count": 158,
   "metadata": {},
   "outputs": [
    {
     "name": "stdout",
     "output_type": "stream",
     "text": [
      "clusters 991\n"
     ]
    },
    {
     "name": "stderr",
     "output_type": "stream",
     "text": [
      "Clustering: 152it [00:00, 508.90it/s]"
     ]
    },
    {
     "name": "stdout",
     "output_type": "stream",
     "text": [
      "mention: 1245\n",
      "within events 991\n"
     ]
    },
    {
     "name": "stderr",
     "output_type": "stream",
     "text": [
      "\n",
      "Clustering: 155it [00:00, 683.89it/s]\n",
      "Clustering: 147it [00:00, 467.12it/s]\n",
      "Clustering: 102it [00:00, 690.35it/s]\n",
      "Clustering: 115it [00:00, 529.93it/s]\n",
      "Clustering: 142it [00:00, 423.74it/s]\n",
      "Clustering: 110it [00:00, 573.93it/s]\n",
      "Clustering: 68it [00:00, 848.92it/s]\n"
     ]
    },
    {
     "name": "stdout",
     "output_type": "stream",
     "text": [
      "0.643348623853211\n",
      "[(10, 0.9725, 0.643348623853211, 5478)]\n"
     ]
    },
    {
     "data": {
      "text/plain": [
       "[(10, 0.9725, 0.643348623853211, 5478)]"
      ]
     },
     "execution_count": 158,
     "metadata": {},
     "output_type": "execute_result"
    }
   ],
   "source": [
    "# Dev score for threshold = 0.369 for Regressor method\n",
    "\n",
    "comparison_anaylis('./data/ecb/', 'dev', sent_token_spacy_map, regressor_scores_path_dev, ks=[10], threshold=0.369)"
   ]
  },
  {
   "cell_type": "code",
   "execution_count": 148,
   "metadata": {},
   "outputs": [
    {
     "name": "stdout",
     "output_type": "stream",
     "text": [
      "clusters 1403\n"
     ]
    },
    {
     "name": "stderr",
     "output_type": "stream",
     "text": [
      "Clustering: 117it [00:00, 763.99it/s]\n",
      "Clustering: 80it [00:00, 790.72it/s]"
     ]
    },
    {
     "name": "stdout",
     "output_type": "stream",
     "text": [
      "mention: 1780\n",
      "within events 1403\n"
     ]
    },
    {
     "name": "stderr",
     "output_type": "stream",
     "text": [
      "Clustering: 171it [00:00, 387.77it/s]\n",
      "Clustering: 67it [00:00, 622.47it/s]\n",
      "Clustering: 83it [00:00, 754.88it/s]\n",
      "Clustering: 89it [00:00, 657.88it/s]\n",
      "Clustering: 169it [00:00, 369.33it/s]\n",
      "Clustering: 92it [00:00, 606.18it/s]\n",
      "Clustering: 200it [00:00, 335.16it/s]\n",
      "Clustering: 227it [00:00, 293.59it/s]\n",
      "Clustering: 188it [00:00, 337.99it/s]\n"
     ]
    },
    {
     "name": "stdout",
     "output_type": "stream",
     "text": [
      "0.5374753451676528\n"
     ]
    },
    {
     "name": "stderr",
     "output_type": "stream",
     "text": [
      "Clustering: 117it [00:00, 743.66it/s]\n",
      "Clustering: 78it [00:00, 764.75it/s]"
     ]
    },
    {
     "name": "stdout",
     "output_type": "stream",
     "text": [
      "mention: 1780\n",
      "within events 1403\n"
     ]
    },
    {
     "name": "stderr",
     "output_type": "stream",
     "text": [
      "Clustering: 171it [00:00, 378.73it/s]\n",
      "Clustering: 67it [00:00, 648.30it/s]\n",
      "Clustering: 83it [00:00, 786.07it/s]\n",
      "Clustering: 89it [00:00, 686.66it/s]\n",
      "Clustering: 169it [00:00, 403.12it/s]\n",
      "Clustering: 92it [00:00, 719.07it/s]\n",
      "Clustering: 200it [00:00, 337.28it/s]\n",
      "Clustering: 227it [00:00, 296.25it/s]\n",
      "Clustering: 188it [00:00, 338.81it/s]\n"
     ]
    },
    {
     "name": "stdout",
     "output_type": "stream",
     "text": [
      "0.5473372781065089\n"
     ]
    },
    {
     "name": "stderr",
     "output_type": "stream",
     "text": [
      "Clustering: 117it [00:00, 780.48it/s]\n",
      "Clustering: 80it [00:00, 785.89it/s]"
     ]
    },
    {
     "name": "stdout",
     "output_type": "stream",
     "text": [
      "mention: 1780\n",
      "within events 1403\n"
     ]
    },
    {
     "name": "stderr",
     "output_type": "stream",
     "text": [
      "Clustering: 171it [00:00, 397.51it/s]\n",
      "Clustering: 67it [00:00, 645.59it/s]\n",
      "Clustering: 83it [00:00, 704.98it/s]\n",
      "Clustering: 89it [00:00, 676.53it/s]\n",
      "Clustering: 169it [00:00, 401.68it/s]\n",
      "Clustering: 92it [00:00, 704.97it/s]\n",
      "Clustering: 200it [00:00, 341.19it/s]\n",
      "Clustering: 227it [00:00, 304.82it/s]\n",
      "Clustering: 188it [00:00, 345.06it/s]\n"
     ]
    },
    {
     "name": "stdout",
     "output_type": "stream",
     "text": [
      "0.5591715976331361\n"
     ]
    },
    {
     "name": "stderr",
     "output_type": "stream",
     "text": [
      "Clustering: 117it [00:00, 811.84it/s]\n",
      "Clustering: 80it [00:00, 788.66it/s]"
     ]
    },
    {
     "name": "stdout",
     "output_type": "stream",
     "text": [
      "mention: 1780\n",
      "within events 1403\n"
     ]
    },
    {
     "name": "stderr",
     "output_type": "stream",
     "text": [
      "Clustering: 171it [00:00, 403.80it/s]\n",
      "Clustering: 67it [00:00, 648.37it/s]\n",
      "Clustering: 83it [00:00, 784.00it/s]\n",
      "Clustering: 89it [00:00, 687.89it/s]\n",
      "Clustering: 169it [00:00, 398.90it/s]\n",
      "Clustering: 92it [00:00, 707.57it/s]\n",
      "Clustering: 200it [00:00, 341.21it/s]\n",
      "Clustering: 227it [00:00, 304.13it/s]\n",
      "Clustering: 188it [00:00, 352.02it/s]\n"
     ]
    },
    {
     "name": "stdout",
     "output_type": "stream",
     "text": [
      "0.5621301775147929\n"
     ]
    },
    {
     "name": "stderr",
     "output_type": "stream",
     "text": [
      "Clustering: 117it [00:00, 765.68it/s]\n",
      "Clustering: 80it [00:00, 785.41it/s]"
     ]
    },
    {
     "name": "stdout",
     "output_type": "stream",
     "text": [
      "mention: 1780\n",
      "within events 1403\n"
     ]
    },
    {
     "name": "stderr",
     "output_type": "stream",
     "text": [
      "Clustering: 171it [00:00, 394.19it/s]\n",
      "Clustering: 67it [00:00, 646.92it/s]\n",
      "Clustering: 83it [00:00, 789.00it/s]\n",
      "Clustering: 89it [00:00, 676.15it/s]\n",
      "Clustering: 169it [00:00, 400.17it/s]\n",
      "Clustering: 92it [00:00, 696.01it/s]\n",
      "Clustering: 200it [00:00, 336.20it/s]\n",
      "Clustering: 227it [00:00, 304.37it/s]\n",
      "Clustering: 188it [00:00, 349.96it/s]\n"
     ]
    },
    {
     "name": "stdout",
     "output_type": "stream",
     "text": [
      "0.5650887573964497\n"
     ]
    },
    {
     "name": "stderr",
     "output_type": "stream",
     "text": [
      "Clustering: 117it [00:00, 772.84it/s]\n",
      "Clustering: 80it [00:00, 793.50it/s]"
     ]
    },
    {
     "name": "stdout",
     "output_type": "stream",
     "text": [
      "mention: 1780\n",
      "within events 1403\n"
     ]
    },
    {
     "name": "stderr",
     "output_type": "stream",
     "text": [
      "Clustering: 171it [00:00, 403.77it/s]\n",
      "Clustering: 67it [00:00, 660.76it/s]\n",
      "Clustering: 83it [00:00, 790.42it/s]\n",
      "Clustering: 89it [00:00, 686.74it/s]\n",
      "Clustering: 169it [00:00, 402.52it/s]\n",
      "Clustering: 92it [00:00, 719.02it/s]\n",
      "Clustering: 200it [00:00, 340.60it/s]\n",
      "Clustering: 227it [00:00, 302.31it/s]\n",
      "Clustering: 188it [00:00, 349.11it/s]\n"
     ]
    },
    {
     "name": "stdout",
     "output_type": "stream",
     "text": [
      "0.5660749506903353\n"
     ]
    },
    {
     "name": "stderr",
     "output_type": "stream",
     "text": [
      "Clustering: 117it [00:00, 763.81it/s]\n",
      "Clustering: 80it [00:00, 787.13it/s]"
     ]
    },
    {
     "name": "stdout",
     "output_type": "stream",
     "text": [
      "mention: 1780\n",
      "within events 1403\n"
     ]
    },
    {
     "name": "stderr",
     "output_type": "stream",
     "text": [
      "Clustering: 171it [00:00, 401.10it/s]\n",
      "Clustering: 67it [00:00, 654.30it/s]\n",
      "Clustering: 83it [00:00, 779.74it/s]\n",
      "Clustering: 89it [00:00, 686.01it/s]\n",
      "Clustering: 169it [00:00, 403.11it/s]\n",
      "Clustering: 92it [00:00, 713.07it/s]\n",
      "Clustering: 200it [00:00, 342.37it/s]\n",
      "Clustering: 227it [00:00, 306.65it/s]\n",
      "Clustering: 188it [00:00, 348.96it/s]\n"
     ]
    },
    {
     "name": "stdout",
     "output_type": "stream",
     "text": [
      "0.5670611439842209\n",
      "[(2, 0.9147, 0.5374753451676528, 1793), (2.5, 0.9297, 0.5473372781065089, 1915), (3, 0.9515, 0.5591715976331361, 2406), (3.5, 0.9548000000000001, 0.5621301775147929, 2481), (4, 0.9598, 0.5650887573964497, 2888), (4.5, 0.9615, 0.5660749506903353, 2951), (5, 0.9632, 0.5670611439842209, 3269)]\n"
     ]
    }
   ],
   "source": [
    "split = 'test'\n",
    "comp_cdlm_thres_10_to_minus_4 = comparison_anaylis('./data/ecb/', split, sent_token_spacy_map, cdlm_scores_path_test, ks=ks, threshold=0.0001)"
   ]
  },
  {
   "cell_type": "code",
   "execution_count": 149,
   "metadata": {},
   "outputs": [
    {
     "name": "stdout",
     "output_type": "stream",
     "text": [
      "clusters 1403\n"
     ]
    },
    {
     "name": "stderr",
     "output_type": "stream",
     "text": [
      "Clustering: 117it [00:00, 768.75it/s]\n",
      "Clustering: 80it [00:00, 797.10it/s]"
     ]
    },
    {
     "name": "stdout",
     "output_type": "stream",
     "text": [
      "mention: 1780\n",
      "within events 1403\n"
     ]
    },
    {
     "name": "stderr",
     "output_type": "stream",
     "text": [
      "Clustering: 171it [00:00, 394.96it/s]\n",
      "Clustering: 67it [00:00, 695.79it/s]\n",
      "Clustering: 83it [00:00, 796.85it/s]\n",
      "Clustering: 89it [00:00, 679.86it/s]\n",
      "Clustering: 169it [00:00, 409.11it/s]\n",
      "Clustering: 92it [00:00, 721.78it/s]\n",
      "Clustering: 200it [00:00, 349.04it/s]\n",
      "Clustering: 227it [00:00, 304.59it/s]\n",
      "Clustering: 188it [00:00, 351.05it/s]\n"
     ]
    },
    {
     "name": "stdout",
     "output_type": "stream",
     "text": [
      "0.41260315078769694\n"
     ]
    },
    {
     "name": "stderr",
     "output_type": "stream",
     "text": [
      "Clustering: 117it [00:00, 795.10it/s]\n",
      "Clustering: 79it [00:00, 788.49it/s]"
     ]
    },
    {
     "name": "stdout",
     "output_type": "stream",
     "text": [
      "mention: 1780\n",
      "within events 1403\n"
     ]
    },
    {
     "name": "stderr",
     "output_type": "stream",
     "text": [
      "Clustering: 171it [00:00, 392.82it/s]\n",
      "Clustering: 67it [00:00, 638.56it/s]\n",
      "Clustering: 83it [00:00, 770.60it/s]\n",
      "Clustering: 89it [00:00, 665.94it/s]\n",
      "Clustering: 169it [00:00, 396.15it/s]\n",
      "Clustering: 92it [00:00, 710.55it/s]\n",
      "Clustering: 200it [00:00, 341.18it/s]\n",
      "Clustering: 227it [00:00, 300.81it/s]\n",
      "Clustering: 188it [00:00, 343.07it/s]\n"
     ]
    },
    {
     "name": "stdout",
     "output_type": "stream",
     "text": [
      "0.4253563390847712\n"
     ]
    },
    {
     "name": "stderr",
     "output_type": "stream",
     "text": [
      "Clustering: 117it [00:00, 752.08it/s]\n",
      "Clustering: 0it [00:00, ?it/s]"
     ]
    },
    {
     "name": "stdout",
     "output_type": "stream",
     "text": [
      "mention: 1780\n",
      "within events 1403\n"
     ]
    },
    {
     "name": "stderr",
     "output_type": "stream",
     "text": [
      "Clustering: 171it [00:00, 403.34it/s]\n",
      "Clustering: 67it [00:00, 681.92it/s]\n",
      "Clustering: 83it [00:00, 775.64it/s]\n",
      "Clustering: 89it [00:00, 669.09it/s]\n",
      "Clustering: 169it [00:00, 399.26it/s]\n",
      "Clustering: 92it [00:00, 728.23it/s]\n",
      "Clustering: 200it [00:00, 343.07it/s]\n",
      "Clustering: 227it [00:00, 307.41it/s]\n",
      "Clustering: 188it [00:00, 337.64it/s]\n"
     ]
    },
    {
     "name": "stdout",
     "output_type": "stream",
     "text": [
      "0.43135783945986494\n"
     ]
    },
    {
     "name": "stderr",
     "output_type": "stream",
     "text": [
      "Clustering: 117it [00:00, 725.46it/s]\n",
      "Clustering: 80it [00:00, 790.04it/s]"
     ]
    },
    {
     "name": "stdout",
     "output_type": "stream",
     "text": [
      "mention: 1780\n",
      "within events 1403\n"
     ]
    },
    {
     "name": "stderr",
     "output_type": "stream",
     "text": [
      "Clustering: 171it [00:00, 401.45it/s]\n",
      "Clustering: 67it [00:00, 644.52it/s]\n",
      "Clustering: 83it [00:00, 786.40it/s]\n",
      "Clustering: 89it [00:00, 686.12it/s]\n",
      "Clustering: 169it [00:00, 402.41it/s]\n",
      "Clustering: 92it [00:00, 719.98it/s]\n",
      "Clustering: 200it [00:00, 339.34it/s]\n",
      "Clustering: 227it [00:00, 305.00it/s]\n",
      "Clustering: 188it [00:00, 347.49it/s]\n"
     ]
    },
    {
     "name": "stdout",
     "output_type": "stream",
     "text": [
      "0.43435858964741186\n"
     ]
    },
    {
     "name": "stderr",
     "output_type": "stream",
     "text": [
      "Clustering: 117it [00:00, 750.82it/s]\n",
      "Clustering: 79it [00:00, 779.76it/s]"
     ]
    },
    {
     "name": "stdout",
     "output_type": "stream",
     "text": [
      "mention: 1780\n",
      "within events 1403\n"
     ]
    },
    {
     "name": "stderr",
     "output_type": "stream",
     "text": [
      "Clustering: 171it [00:00, 395.58it/s]\n",
      "Clustering: 67it [00:00, 640.31it/s]\n",
      "Clustering: 83it [00:00, 778.02it/s]\n",
      "Clustering: 89it [00:00, 687.82it/s]\n",
      "Clustering: 169it [00:00, 403.17it/s]\n",
      "Clustering: 92it [00:00, 716.38it/s]\n",
      "Clustering: 200it [00:00, 344.61it/s]\n",
      "Clustering: 227it [00:00, 303.45it/s]\n",
      "Clustering: 188it [00:00, 347.12it/s]\n"
     ]
    },
    {
     "name": "stdout",
     "output_type": "stream",
     "text": [
      "0.436609152288072\n"
     ]
    },
    {
     "name": "stderr",
     "output_type": "stream",
     "text": [
      "Clustering: 117it [00:00, 763.89it/s]\n",
      "Clustering: 79it [00:00, 788.44it/s]"
     ]
    },
    {
     "name": "stdout",
     "output_type": "stream",
     "text": [
      "mention: 1780\n",
      "within events 1403\n"
     ]
    },
    {
     "name": "stderr",
     "output_type": "stream",
     "text": [
      "Clustering: 171it [00:00, 402.23it/s]\n",
      "Clustering: 67it [00:00, 653.61it/s]\n",
      "Clustering: 83it [00:00, 791.45it/s]\n",
      "Clustering: 89it [00:00, 698.57it/s]\n",
      "Clustering: 169it [00:00, 402.48it/s]\n",
      "Clustering: 92it [00:00, 720.77it/s]\n",
      "Clustering: 200it [00:00, 346.26it/s]\n",
      "Clustering: 227it [00:00, 305.14it/s]\n",
      "Clustering: 188it [00:00, 349.84it/s]\n"
     ]
    },
    {
     "name": "stdout",
     "output_type": "stream",
     "text": [
      "0.44036009002250565\n"
     ]
    },
    {
     "name": "stderr",
     "output_type": "stream",
     "text": [
      "Clustering: 117it [00:00, 818.02it/s]\n",
      "Clustering: 79it [00:00, 781.92it/s]"
     ]
    },
    {
     "name": "stdout",
     "output_type": "stream",
     "text": [
      "mention: 1780\n",
      "within events 1403\n"
     ]
    },
    {
     "name": "stderr",
     "output_type": "stream",
     "text": [
      "Clustering: 171it [00:00, 399.88it/s]\n",
      "Clustering: 67it [00:00, 685.86it/s]\n",
      "Clustering: 83it [00:00, 791.79it/s]\n",
      "Clustering: 89it [00:00, 698.09it/s]\n",
      "Clustering: 169it [00:00, 400.87it/s]\n",
      "Clustering: 92it [00:00, 765.88it/s]\n",
      "Clustering: 200it [00:00, 344.07it/s]\n",
      "Clustering: 227it [00:00, 304.70it/s]\n",
      "Clustering: 188it [00:00, 348.57it/s]\n"
     ]
    },
    {
     "name": "stdout",
     "output_type": "stream",
     "text": [
      "0.44036009002250565\n",
      "[(2, 0.9229999999999999, 0.41260315078769694, 2664), (2.5, 0.9498000000000001, 0.4253563390847712, 3058), (3, 0.9648, 0.43135783945986494, 3979), (3.5, 0.9715, 0.43435858964741186, 4342), (4, 0.9749, 0.436609152288072, 5277), (4.5, 0.9832, 0.44036009002250565, 5657), (5, 0.9832, 0.44036009002250565, 6562)]\n"
     ]
    }
   ],
   "source": [
    "comp_cdlm_no_thres = comparison_anaylis('./data/ecb/', split, sent_token_spacy_map, cdlm_scores_path_test, ks=[2, 2.5, 3, 3.5, 4, 4.5, 5], threshold=0.0)"
   ]
  },
  {
   "cell_type": "code",
   "execution_count": 150,
   "metadata": {},
   "outputs": [
    {
     "name": "stdout",
     "output_type": "stream",
     "text": [
      "clusters 1403\n"
     ]
    },
    {
     "name": "stderr",
     "output_type": "stream",
     "text": [
      "Clustering: 117it [00:00, 765.41it/s]\n",
      "Clustering: 79it [00:00, 783.45it/s]"
     ]
    },
    {
     "name": "stdout",
     "output_type": "stream",
     "text": [
      "mention: 1780\n",
      "within events 1403\n"
     ]
    },
    {
     "name": "stderr",
     "output_type": "stream",
     "text": [
      "Clustering: 171it [00:00, 401.66it/s]\n",
      "Clustering: 67it [00:00, 653.67it/s]\n",
      "Clustering: 83it [00:00, 760.45it/s]\n",
      "Clustering: 89it [00:00, 675.60it/s]\n",
      "Clustering: 169it [00:00, 410.33it/s]\n",
      "Clustering: 92it [00:00, 709.87it/s]\n",
      "Clustering: 200it [00:00, 347.88it/s]\n",
      "Clustering: 227it [00:00, 311.09it/s]\n",
      "Clustering: 188it [00:00, 346.14it/s]\n"
     ]
    },
    {
     "name": "stdout",
     "output_type": "stream",
     "text": [
      "0.4111027756939235\n"
     ]
    },
    {
     "name": "stderr",
     "output_type": "stream",
     "text": [
      "Clustering: 117it [00:00, 743.31it/s]\n",
      "Clustering: 78it [00:00, 776.69it/s]"
     ]
    },
    {
     "name": "stdout",
     "output_type": "stream",
     "text": [
      "mention: 1780\n",
      "within events 1403\n"
     ]
    },
    {
     "name": "stderr",
     "output_type": "stream",
     "text": [
      "Clustering: 171it [00:00, 394.49it/s]\n",
      "Clustering: 67it [00:00, 674.97it/s]\n",
      "Clustering: 83it [00:00, 760.23it/s]\n",
      "Clustering: 89it [00:00, 668.27it/s]\n",
      "Clustering: 169it [00:00, 402.82it/s]\n",
      "Clustering: 92it [00:00, 696.86it/s]\n",
      "Clustering: 200it [00:00, 341.98it/s]\n",
      "Clustering: 227it [00:00, 307.12it/s]\n",
      "Clustering: 188it [00:00, 344.13it/s]\n"
     ]
    },
    {
     "name": "stdout",
     "output_type": "stream",
     "text": [
      "0.4156039009752438\n"
     ]
    },
    {
     "name": "stderr",
     "output_type": "stream",
     "text": [
      "Clustering: 117it [00:00, 753.63it/s]\n",
      "Clustering: 79it [00:00, 781.97it/s]"
     ]
    },
    {
     "name": "stdout",
     "output_type": "stream",
     "text": [
      "mention: 1780\n",
      "within events 1403\n"
     ]
    },
    {
     "name": "stderr",
     "output_type": "stream",
     "text": [
      "Clustering: 171it [00:00, 394.32it/s]\n",
      "Clustering: 67it [00:00, 663.12it/s]\n",
      "Clustering: 83it [00:00, 748.16it/s]\n",
      "Clustering: 89it [00:00, 675.71it/s]\n",
      "Clustering: 169it [00:00, 399.53it/s]\n",
      "Clustering: 92it [00:00, 687.88it/s]\n",
      "Clustering: 200it [00:00, 340.27it/s]\n",
      "Clustering: 227it [00:00, 303.48it/s]\n",
      "Clustering: 188it [00:00, 339.33it/s]\n"
     ]
    },
    {
     "name": "stdout",
     "output_type": "stream",
     "text": [
      "0.4223555888972243\n"
     ]
    },
    {
     "name": "stderr",
     "output_type": "stream",
     "text": [
      "Clustering: 117it [00:00, 752.11it/s]\n",
      "Clustering: 79it [00:00, 784.45it/s]"
     ]
    },
    {
     "name": "stdout",
     "output_type": "stream",
     "text": [
      "mention: 1780\n",
      "within events 1403\n"
     ]
    },
    {
     "name": "stderr",
     "output_type": "stream",
     "text": [
      "Clustering: 171it [00:00, 390.97it/s]\n",
      "Clustering: 67it [00:00, 628.81it/s]\n",
      "Clustering: 83it [00:00, 746.26it/s]\n",
      "Clustering: 89it [00:00, 684.26it/s]\n",
      "Clustering: 169it [00:00, 400.69it/s]\n",
      "Clustering: 92it [00:00, 691.74it/s]\n",
      "Clustering: 200it [00:00, 341.18it/s]\n",
      "Clustering: 227it [00:00, 300.44it/s]\n",
      "Clustering: 188it [00:00, 338.01it/s]\n"
     ]
    },
    {
     "name": "stdout",
     "output_type": "stream",
     "text": [
      "0.42460615153788445\n"
     ]
    },
    {
     "name": "stderr",
     "output_type": "stream",
     "text": [
      "Clustering: 117it [00:00, 774.47it/s]\n",
      "Clustering: 79it [00:00, 782.48it/s]"
     ]
    },
    {
     "name": "stdout",
     "output_type": "stream",
     "text": [
      "mention: 1780\n",
      "within events 1403\n"
     ]
    },
    {
     "name": "stderr",
     "output_type": "stream",
     "text": [
      "Clustering: 171it [00:00, 396.71it/s]\n",
      "Clustering: 67it [00:00, 641.47it/s]\n",
      "Clustering: 83it [00:00, 749.89it/s]\n",
      "Clustering: 89it [00:00, 675.89it/s]\n",
      "Clustering: 169it [00:00, 392.65it/s]\n",
      "Clustering: 92it [00:00, 701.67it/s]\n",
      "Clustering: 200it [00:00, 335.77it/s]\n",
      "Clustering: 227it [00:00, 304.87it/s]\n",
      "Clustering: 188it [00:00, 346.15it/s]\n"
     ]
    },
    {
     "name": "stdout",
     "output_type": "stream",
     "text": [
      "0.42760690172543137\n"
     ]
    },
    {
     "name": "stderr",
     "output_type": "stream",
     "text": [
      "Clustering: 117it [00:00, 771.46it/s]\n",
      "Clustering: 80it [00:00, 790.64it/s]"
     ]
    },
    {
     "name": "stdout",
     "output_type": "stream",
     "text": [
      "mention: 1780\n",
      "within events 1403\n"
     ]
    },
    {
     "name": "stderr",
     "output_type": "stream",
     "text": [
      "Clustering: 171it [00:00, 395.43it/s]\n",
      "Clustering: 67it [00:00, 613.24it/s]\n",
      "Clustering: 83it [00:00, 768.93it/s]\n",
      "Clustering: 89it [00:00, 688.56it/s]\n",
      "Clustering: 169it [00:00, 405.56it/s]\n",
      "Clustering: 92it [00:00, 705.76it/s]\n",
      "Clustering: 200it [00:00, 345.93it/s]\n",
      "Clustering: 227it [00:00, 306.82it/s]\n",
      "Clustering: 188it [00:00, 340.12it/s]\n"
     ]
    },
    {
     "name": "stdout",
     "output_type": "stream",
     "text": [
      "0.4291072768192048\n"
     ]
    },
    {
     "name": "stderr",
     "output_type": "stream",
     "text": [
      "Clustering: 117it [00:00, 812.97it/s]\n",
      "Clustering: 80it [00:00, 790.53it/s]"
     ]
    },
    {
     "name": "stdout",
     "output_type": "stream",
     "text": [
      "mention: 1780\n",
      "within events 1403\n"
     ]
    },
    {
     "name": "stderr",
     "output_type": "stream",
     "text": [
      "Clustering: 171it [00:00, 405.22it/s]\n",
      "Clustering: 67it [00:00, 655.99it/s]\n",
      "Clustering: 83it [00:00, 776.49it/s]\n",
      "Clustering: 89it [00:00, 699.33it/s]\n",
      "Clustering: 169it [00:00, 389.95it/s]\n",
      "Clustering: 92it [00:00, 607.47it/s]\n",
      "Clustering: 200it [00:00, 343.91it/s]\n",
      "Clustering: 227it [00:00, 306.48it/s]\n",
      "Clustering: 188it [00:00, 348.64it/s]\n"
     ]
    },
    {
     "name": "stdout",
     "output_type": "stream",
     "text": [
      "0.43360840210052515\n",
      "[(2, 0.9163, 0.4111027756939235, 2664), (2.5, 0.9264, 0.4156039009752438, 3066), (3, 0.9448000000000001, 0.4223555888972243, 3979), (3.5, 0.9498000000000001, 0.42460615153788445, 4342), (4, 0.9565, 0.42760690172543137, 5277), (4.5, 0.9581000000000001, 0.4291072768192048, 5645), (5, 0.9682, 0.43360840210052515, 6562)]\n"
     ]
    }
   ],
   "source": [
    "regressor_no_thres = comparison_anaylis('./data/ecb/', 'test', sent_token_spacy_map, regressor_scores_path_test, ks=ks, threshold=0.0)"
   ]
  },
  {
   "cell_type": "code",
   "execution_count": 159,
   "metadata": {},
   "outputs": [
    {
     "name": "stdout",
     "output_type": "stream",
     "text": [
      "clusters 1403\n"
     ]
    },
    {
     "name": "stderr",
     "output_type": "stream",
     "text": [
      "Clustering: 117it [00:00, 771.87it/s]\n",
      "Clustering: 80it [00:00, 789.05it/s]"
     ]
    },
    {
     "name": "stdout",
     "output_type": "stream",
     "text": [
      "mention: 1780\n",
      "within events 1403\n"
     ]
    },
    {
     "name": "stderr",
     "output_type": "stream",
     "text": [
      "Clustering: 171it [00:00, 395.45it/s]\n",
      "Clustering: 67it [00:00, 636.66it/s]\n",
      "Clustering: 83it [00:00, 763.69it/s]\n",
      "Clustering: 89it [00:00, 638.83it/s]\n",
      "Clustering: 169it [00:00, 399.24it/s]\n",
      "Clustering: 92it [00:00, 696.45it/s]\n",
      "Clustering: 200it [00:00, 349.39it/s]\n",
      "Clustering: 227it [00:00, 307.04it/s]\n",
      "Clustering: 188it [00:00, 341.75it/s]\n"
     ]
    },
    {
     "name": "stdout",
     "output_type": "stream",
     "text": [
      "0.502803738317757\n"
     ]
    },
    {
     "name": "stderr",
     "output_type": "stream",
     "text": [
      "Clustering: 117it [00:00, 743.77it/s]\n",
      "Clustering: 79it [00:00, 789.46it/s]"
     ]
    },
    {
     "name": "stdout",
     "output_type": "stream",
     "text": [
      "mention: 1780\n",
      "within events 1403\n"
     ]
    },
    {
     "name": "stderr",
     "output_type": "stream",
     "text": [
      "Clustering: 171it [00:00, 395.71it/s]\n",
      "Clustering: 67it [00:00, 641.57it/s]\n",
      "Clustering: 83it [00:00, 738.72it/s]\n",
      "Clustering: 89it [00:00, 636.03it/s]\n",
      "Clustering: 169it [00:00, 397.28it/s]\n",
      "Clustering: 92it [00:00, 691.15it/s]\n",
      "Clustering: 200it [00:00, 342.16it/s]\n",
      "Clustering: 227it [00:00, 300.37it/s]\n",
      "Clustering: 188it [00:00, 339.12it/s]\n"
     ]
    },
    {
     "name": "stdout",
     "output_type": "stream",
     "text": [
      "0.5102803738317757\n"
     ]
    },
    {
     "name": "stderr",
     "output_type": "stream",
     "text": [
      "Clustering: 117it [00:00, 733.12it/s]\n",
      "Clustering: 0it [00:00, ?it/s]"
     ]
    },
    {
     "name": "stdout",
     "output_type": "stream",
     "text": [
      "mention: 1780\n",
      "within events 1403\n"
     ]
    },
    {
     "name": "stderr",
     "output_type": "stream",
     "text": [
      "Clustering: 171it [00:00, 399.07it/s]\n",
      "Clustering: 67it [00:00, 650.47it/s]\n",
      "Clustering: 83it [00:00, 750.71it/s]\n",
      "Clustering: 89it [00:00, 657.70it/s]\n",
      "Clustering: 169it [00:00, 399.11it/s]\n",
      "Clustering: 92it [00:00, 710.03it/s]\n",
      "Clustering: 200it [00:00, 345.22it/s]\n",
      "Clustering: 227it [00:00, 303.94it/s]\n",
      "Clustering: 188it [00:00, 338.83it/s]\n"
     ]
    },
    {
     "name": "stdout",
     "output_type": "stream",
     "text": [
      "0.5149532710280373\n"
     ]
    },
    {
     "name": "stderr",
     "output_type": "stream",
     "text": [
      "Clustering: 117it [00:00, 761.48it/s]\n",
      "Clustering: 79it [00:00, 786.38it/s]"
     ]
    },
    {
     "name": "stdout",
     "output_type": "stream",
     "text": [
      "mention: 1780\n",
      "within events 1403\n"
     ]
    },
    {
     "name": "stderr",
     "output_type": "stream",
     "text": [
      "Clustering: 171it [00:00, 396.53it/s]\n",
      "Clustering: 67it [00:00, 639.87it/s]\n",
      "Clustering: 83it [00:00, 742.67it/s]\n",
      "Clustering: 89it [00:00, 644.30it/s]\n",
      "Clustering: 169it [00:00, 397.01it/s]\n",
      "Clustering: 92it [00:00, 698.54it/s]\n",
      "Clustering: 200it [00:00, 342.47it/s]\n",
      "Clustering: 227it [00:00, 300.10it/s]\n",
      "Clustering: 188it [00:00, 341.87it/s]\n"
     ]
    },
    {
     "name": "stdout",
     "output_type": "stream",
     "text": [
      "0.516822429906542\n"
     ]
    },
    {
     "name": "stderr",
     "output_type": "stream",
     "text": [
      "Clustering: 117it [00:00, 820.85it/s]\n",
      "Clustering: 80it [00:00, 789.56it/s]"
     ]
    },
    {
     "name": "stdout",
     "output_type": "stream",
     "text": [
      "mention: 1780\n",
      "within events 1403\n"
     ]
    },
    {
     "name": "stderr",
     "output_type": "stream",
     "text": [
      "Clustering: 171it [00:00, 401.29it/s]\n",
      "Clustering: 67it [00:00, 645.97it/s]\n",
      "Clustering: 83it [00:00, 734.27it/s]\n",
      "Clustering: 89it [00:00, 635.04it/s]\n",
      "Clustering: 169it [00:00, 393.45it/s]\n",
      "Clustering: 92it [00:00, 692.44it/s]\n",
      "Clustering: 200it [00:00, 345.86it/s]\n",
      "Clustering: 227it [00:00, 304.86it/s]\n",
      "Clustering: 188it [00:00, 346.22it/s]\n"
     ]
    },
    {
     "name": "stdout",
     "output_type": "stream",
     "text": [
      "0.5186915887850467\n"
     ]
    },
    {
     "name": "stderr",
     "output_type": "stream",
     "text": [
      "Clustering: 117it [00:00, 766.07it/s]\n",
      "Clustering: 79it [00:00, 779.60it/s]"
     ]
    },
    {
     "name": "stdout",
     "output_type": "stream",
     "text": [
      "mention: 1780\n",
      "within events 1403\n"
     ]
    },
    {
     "name": "stderr",
     "output_type": "stream",
     "text": [
      "Clustering: 171it [00:00, 396.48it/s]\n",
      "Clustering: 67it [00:00, 640.11it/s]\n",
      "Clustering: 83it [00:00, 750.65it/s]\n",
      "Clustering: 89it [00:00, 645.80it/s]\n",
      "Clustering: 169it [00:00, 392.05it/s]\n",
      "Clustering: 92it [00:00, 704.76it/s]\n",
      "Clustering: 200it [00:00, 342.17it/s]\n",
      "Clustering: 227it [00:00, 288.55it/s]\n",
      "Clustering: 188it [00:00, 338.96it/s]\n"
     ]
    },
    {
     "name": "stdout",
     "output_type": "stream",
     "text": [
      "0.5186915887850467\n"
     ]
    },
    {
     "name": "stderr",
     "output_type": "stream",
     "text": [
      "Clustering: 117it [00:00, 811.64it/s]\n",
      "Clustering: 79it [00:00, 781.94it/s]"
     ]
    },
    {
     "name": "stdout",
     "output_type": "stream",
     "text": [
      "mention: 1780\n",
      "within events 1403\n"
     ]
    },
    {
     "name": "stderr",
     "output_type": "stream",
     "text": [
      "Clustering: 171it [00:00, 398.21it/s]\n",
      "Clustering: 67it [00:00, 679.51it/s]\n",
      "Clustering: 83it [00:00, 756.34it/s]\n",
      "Clustering: 89it [00:00, 650.32it/s]\n",
      "Clustering: 169it [00:00, 399.73it/s]\n",
      "Clustering: 92it [00:00, 703.19it/s]\n",
      "Clustering: 200it [00:00, 344.02it/s]\n",
      "Clustering: 227it [00:00, 303.26it/s]\n",
      "Clustering: 188it [00:00, 346.91it/s]\n"
     ]
    },
    {
     "name": "stdout",
     "output_type": "stream",
     "text": [
      "0.5233644859813084\n",
      "[(2, 0.9013, 0.502803738317757, 1992), (2.5, 0.9147, 0.5102803738317757, 2144), (3, 0.9247, 0.5149532710280373, 2790), (3.5, 0.9279999999999999, 0.516822429906542, 2910), (4, 0.9314, 0.5186915887850467, 3482), (4.5, 0.9314, 0.5186915887850467, 3561), (5, 0.9414, 0.5233644859813084, 4089)]\n"
     ]
    }
   ],
   "source": [
    "regressor_threshold_508 = comparison_anaylis('./data/ecb/', 'test', sent_token_spacy_map, regressor_scores_path_test, ks=ks, threshold=0.369)"
   ]
  },
  {
   "cell_type": "code",
   "execution_count": 152,
   "metadata": {},
   "outputs": [],
   "source": [
    "import numpy as np\n",
    "import matplotlib.pyplot as plt\n",
    "import matplotlib.ticker\n",
    "\n",
    "import matplotlib.font_manager as font_manager\n",
    "\n",
    "matplotlib.rcParams['xtick.minor.size'] = 0\n",
    "matplotlib.rcParams['xtick.minor.width'] = 0\n",
    "ns = [2, 2.5, 3, 3.5, 4, 4.5, 5, ]\n",
    "ns_no_thres = [2, 2.5, 3, 3.5, 4, 4.5, 5, ]\n",
    "\n",
    "def round(results, ns=ns):\n",
    "    results =  [[res[0]] + [np.round(r, 4) for r in res[1:]] for res in results if res[0] in ns]\n",
    "    for res in results:\n",
    "        if int(res[1]/10) > 0:\n",
    "            res[1] = res[1]*100\n",
    "    return results"
   ]
  },
  {
   "cell_type": "code",
   "execution_count": 153,
   "metadata": {},
   "outputs": [],
   "source": [
    "comp_cdlm_no_thres = round(comp_cdlm_no_thres, ns=ns_no_thres)\n",
    "# comp_cdlm_thres_10_to_minus_5 = round(comp_cdlm_thres_10_to_minus_5)\n",
    "comp_cdlm_thres_10_to_minus_4 = round(comp_cdlm_thres_10_to_minus_4)\n",
    "\n",
    "regressor_no_thres = round(regressor_no_thres)\n",
    "regressor_threshold_508 = round(regressor_threshold_508)"
   ]
  },
  {
   "cell_type": "code",
   "execution_count": 139,
   "metadata": {},
   "outputs": [],
   "source": [
    "%matplotlib inline"
   ]
  },
  {
   "cell_type": "code",
   "execution_count": 170,
   "metadata": {},
   "outputs": [
    {
     "name": "stdout",
     "output_type": "stream",
     "text": [
      "[1.0, 1.5, 2.0, 2.5, 3.0, 3.5, 4.0, 4.5, 5.0, 5.5, 6.0, 6.5, 7.0, 7.5, 8.0, 8.5, 9.0, 9.5, 10.0, 10.5, 11.0, 11.5, 12.0, 12.5]\n",
      "[1.0, 1.5, 2.0, 2.5, 3.0, 3.5, 4.0, 4.5, 5.0, 5.5, 6.0, 6.5, 7.0, 7.5, 8.0, 8.5, 9.0, 9.5, 10.0, 10.5, 11.0, 11.5, 12.0, 12.5]\n",
      "[1.0, 1.5, 2.0, 2.5, 3.0, 3.5, 4.0, 4.5, 5.0, 5.5, 6.0, 6.5, 7.0, 7.5, 8.0, 8.5, 9.0, 9.5, 10.0, 10.5, 11.0, 11.5, 12.0, 12.5]\n",
      "[1.0, 1.5, 2.0, 2.5, 3.0, 3.5, 4.0, 4.5, 5.0, 5.5, 6.0, 6.5, 7.0, 7.5, 8.0, 8.5, 9.0, 9.5, 10.0, 10.5, 11.0, 11.5, 12.0, 12.5]\n"
     ]
    },
    {
     "data": {
      "image/png": "[encoded data removed]",
      "text/plain": [
       "<Figure size 864x720 with 1 Axes>"
      ]
     },
     "metadata": {
      "needs_background": "light"
     },
     "output_type": "display_data"
    }
   ],
   "source": [
    "from matplotlib.ticker import ScalarFormatter, AutoMinorLocator, LogFormatter, LogLocator, FuncFormatter\n",
    "\n",
    "def get_power_rep(val):\n",
    "    log_10 = int(np.log10(val))\n",
    "    pow_10 = np.power(10, log_10)\n",
    "    num_decimal = val/pow_10\n",
    "    \n",
    "    return '$%.0f'%num_decimal + 'x10^%d$'%log_10\n",
    "\n",
    "plt.rcParams[\"figure.figsize\"] = (12,10)\n",
    "plt.rcParams.update({'font.size': 25})\n",
    "plt.rcParams['text.usetex'] = True\n",
    "\n",
    "\n",
    "fig, ax = plt.subplots()\n",
    "\n",
    "def annotate_normal(res, xytext=(10, -35), color='black', label=None):\n",
    "    \n",
    "    n, y, p, x = res\n",
    "    if label == None:\n",
    "        label = '(%s, %.2f)'%(n, p)\n",
    "\n",
    "    plt.annotate(\n",
    "        label,\n",
    "        (x, y),\n",
    "        color=color,\n",
    "        textcoords='offset points',\n",
    "        xytext=xytext,\n",
    "        ha='center',\n",
    "        fontsize=anno_font_size\n",
    "    )\n",
    "\n",
    "    \n",
    "def annotate_arrow(res, xytext=(0, 60), label=None, arrow_style='<|-', color='black', alpha=1.0):\n",
    "    \n",
    "    n, y, p, x = res\n",
    "    if label == None:\n",
    "        label = '(%s, %.2f)'%(n, p)\n",
    "    \n",
    "    arrowprops=dict(arrowstyle= arrow_style,\n",
    "                    ls=(0, (5, 10)),\n",
    "                             color='black',\n",
    "                    alpha = 0.3\n",
    "                             )\n",
    "    \n",
    "    plt.annotate(\n",
    "        label,\n",
    "        (x, y),\n",
    "        color=color,\n",
    "        textcoords='offset points',\n",
    "        xytext=xytext,\n",
    "        ha='center',\n",
    "        arrowprops=arrowprops,\n",
    "        fontsize=anno_font_size,\n",
    "        \n",
    "    )\n",
    "\n",
    "\n",
    "    \n",
    "def plot_label(ns, xs, ys, ps, label, style, color):\n",
    "    at_ns = ['@%d'%n for n in ns]\n",
    "\n",
    "    xticks = [i/2 for i in range(2, 26)]\n",
    "    print(xticks)\n",
    "    xticks_labels = ['$%d$'%i if j%2==1 else '' for j, i in enumerate(xticks)]\n",
    "#     xticks.insert(2, 2500)\n",
    "    xticks = np.array(xticks)*1000\n",
    "#     xticks.remove(11000)\n",
    "#     yticks = [80, 82, 84,86, 88, 90, 92, 94, 95, 96, 97, 98, 99, 100]\n",
    "    \n",
    "    yticks = [90, 92, 94, 95, 96, 97, 98, 99, 100]\n",
    "    \n",
    "    ax.set_ylim(ymin=88, ymax=100)\n",
    "\n",
    "    ax.plot(xs, ys, style, label=label, color=color)\n",
    "\n",
    "    ax.set_xticks(xticks)\n",
    "    ax.set_xticklabels(xticks_labels)\n",
    "\n",
    "    xticks = ax.xaxis.get_major_ticks()\n",
    "    \n",
    "    hide_ticks = np.array([-2, -4])\n",
    "    for h in hide_ticks:\n",
    "        xticks[h].label1.set_visible(False)\n",
    "\n",
    "    ax.set_yticks(yticks)\n",
    "\n",
    "    ax.set_xlim(xmin=1000, xmax=7000)\n",
    "\n",
    "anno_font_size = 25\n",
    "\n",
    "\n",
    "c1 = 'green'\n",
    "c2 = 'limegreen'\n",
    "    \n",
    "def plot(results, label, style, color='black'):\n",
    "    indices = [2, 2.5, 3, 3.5, 4, 4.5, 5, ]\n",
    "    plot_results = [res for res in results if res[0] in indices]\n",
    "    ns, ys, ps, xs = zip(*plot_results)\n",
    "    plot_label(ns, xs, ys, ps, label, style, color)\n",
    "\n",
    "\n",
    "\n",
    "\n",
    "\n",
    "\n",
    "plot(comp_cdlm_thres_10_to_minus_4, r'{\\fontfamily{qcr}\\selectfont CDLM~\\ensuremath{10^{-4}}}', 'o--', color=c2)\n",
    "# annotate_normal(comp_cdlm_thres_10_to_minus_4[0])\n",
    "n, y, p, x = comp_cdlm_thres_10_to_minus_4[1]\n",
    "annotate_normal(comp_cdlm_thres_10_to_minus_4[1],color=c2, xytext=(-30, 10), label='(%s,\\n%.2f)'%(n, p))\n",
    "annotate_arrow(comp_cdlm_thres_10_to_minus_4[2], color=c2, xytext=(-10,45))\n",
    "annotate_arrow(comp_cdlm_thres_10_to_minus_4[-1], color=c2, xytext=(0, 80))\n",
    "\n",
    "annotate_arrow(comp_cdlm_thres_10_to_minus_4[1], \n",
    "               color=c2, \n",
    "               arrow_style= '-', \n",
    "               label='', \n",
    "               xytext=(0, -234), alpha=0.3)\n",
    "\n",
    "n, y, p, x = comp_cdlm_thres_10_to_minus_4[-2]\n",
    "x = x + 50\n",
    "res_new = (n, y, p, x)\n",
    "\n",
    "annotate_arrow(res_new, \n",
    "               color=c2, \n",
    "               arrow_style= '-', \n",
    "               label='', \n",
    "               xytext=(0, -370), alpha=0.3)\n",
    "\n",
    "\n",
    "\n",
    "plot(comp_cdlm_no_thres, r'{\\fontfamily{qcr}\\selectfont CDLM}', 'o--', c1)\n",
    "# annotate_normal(comp_cdlm_no_thres[0], xytext=(50, -25))\n",
    "# annotate_arrow(comp_cdlm_no_thres[1], xytext=(65, -100), color=c1)\n",
    "\n",
    "\n",
    "annotate_normal(comp_cdlm_no_thres[-1], color=c1, xytext=(5, 10))\n",
    "\n",
    "c3 = 'dodgerblue'\n",
    "c4 = 'darkblue'\n",
    "\n",
    "plot(regressor_threshold_508, r'{\\fontfamily{qcr}\\selectfont Regressor}' + '\\n' + r'{\\fontfamily{qcr}\\selectfont .369}'\n",
    "     , 'o-.', color='dodgerblue')\n",
    "annotate_normal(regressor_threshold_508[-1], color=c3, xytext=(40, -35))\n",
    "\n",
    "plot(regressor_no_thres, r'{\\fontfamily{qcr}\\selectfont Regressor}', 'o-.', color='darkblue')\n",
    "annotate_normal(regressor_no_thres[-1], color=c4, xytext=(5, -30))\n",
    "\n",
    "n, y, p, x = regressor_no_thres[-2]\n",
    "annotate_arrow(regressor_no_thres[-2], color=c4, xytext=(70, -75), alpha=0.3)\n",
    "\n",
    "\n",
    "# x_no_thres_point = (x_no_thres, 0.95)\n",
    "\n",
    "# no_thres_2 = np.round((2, 0.9247, 0.41335333833458365, 2660), 2)\n",
    "# # print(no_thres_2)\n",
    "# plt.plot(no_thres_2[-1], no_thres_2[1], 'go')\n",
    "ax.tick_params(right=True,labelright=True)\n",
    "# plt.xlabel(r'$\\mathtt{Comparisons}\\times10^{3}$', fontsize=30)\n",
    "plt.xlabel(r'$\\mathtt{Comparisons}\\times10^{3}$', fontsize=30)\n",
    "plt.ylabel(r'$\\mathtt{MUC_R}~\\%$', fontsize=30)\n",
    "\n",
    "font = font_manager.FontProperties(weight='bold',\n",
    "                                   style='normal', size=25)\n",
    "\n",
    "plt.legend(title='Method', loc=4, prop=font)\n",
    "plt.grid()\n",
    "plt.savefig('muc_by_comps.eps', format='pdf', bbox_inches='tight')"
   ]
  },
  {
   "cell_type": "code",
   "execution_count": 163,
   "metadata": {},
   "outputs": [],
   "source": [
    "regressor_threshold_508 = round(regressor_threshold_508)"
   ]
  },
  {
   "cell_type": "code",
   "execution_count": null,
   "metadata": {},
   "outputs": [],
   "source": []
  }
 ],
 "metadata": {
  "kernelspec": {
   "display_name": "Python 3",
   "language": "python",
   "name": "python3"
  },
  "language_info": {
   "codemirror_mode": {
    "name": "ipython",
    "version": 3
   },
   "file_extension": ".py",
   "mimetype": "text/x-python",
   "name": "python",
   "nbconvert_exporter": "python",
   "pygments_lexer": "ipython3",
   "version": "3.8.5"
  }
 },
 "nbformat": 4,
 "nbformat_minor": 1
}
